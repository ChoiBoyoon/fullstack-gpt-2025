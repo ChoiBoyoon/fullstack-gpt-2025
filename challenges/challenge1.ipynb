{
 "cells": [
  {
   "cell_type": "code",
   "execution_count": 1,
   "metadata": {},
   "outputs": [
    {
     "name": "stderr",
     "output_type": "stream",
     "text": [
      "/Users/boyoon/Documents/GitHub/fullstack-gpt-2025/.venv/lib/python3.9/site-packages/urllib3/__init__.py:35: NotOpenSSLWarning: urllib3 v2 only supports OpenSSL 1.1.1+, currently the 'ssl' module is compiled with 'LibreSSL 2.8.3'. See: https://github.com/urllib3/urllib3/issues/3020\n",
      "  warnings.warn(\n"
     ]
    },
    {
     "name": "stdout",
     "output_type": "stream",
     "text": [
      "Sleek serpent slithers,  \n",
      "Code flows with elegance, grace,  \n",
      "Python, a language.This Haiku poem beautifully intertwines elements of nature with the world of programming. Let's break it down line by line:\n",
      "\n",
      "1. \"Sleek serpent slithers\"\n",
      "This line paints a vivid image of a snake moving smoothly and gracefully. The word \"sleek\" suggests a sense of beauty and efficiency in its movements. In the context of programming, this could be a metaphor for the fluidity and agility of code as it runs through a program.\n",
      "\n",
      "2. \"Code flows with elegance, grace\"\n",
      "Here, the Haiku likens the flow of code to elegance and grace, much like the movement of the serpent in the first line. It conveys a sense of harmony and beauty in the way code is written and executed. Writing efficient and elegant code is a skill that many programmers aspire to achieve.\n",
      "\n",
      "3. \"Python, a language.\"\n",
      "In the final line, the specific programming language \"Python\" is mentioned. Python is known for its simplicity and readability, making it a popular choice for many developers. By naming Python in this Haiku, the poet not only pays homage to the language but also ties it back to the imagery of the sleek serpent, further emphasizing the connection between nature and programming.\n",
      "\n",
      "Overall, this Haiku effectively captures the essence of coding as a harmonious and graceful process, akin to the movements of a serpent, with a subtle nod to the Python programming language."
     ]
    },
    {
     "data": {
      "text/plain": [
       "AIMessage(content='This Haiku poem beautifully intertwines elements of nature with the world of programming. Let\\'s break it down line by line:\\n\\n1. \"Sleek serpent slithers\"\\nThis line paints a vivid image of a snake moving smoothly and gracefully. The word \"sleek\" suggests a sense of beauty and efficiency in its movements. In the context of programming, this could be a metaphor for the fluidity and agility of code as it runs through a program.\\n\\n2. \"Code flows with elegance, grace\"\\nHere, the Haiku likens the flow of code to elegance and grace, much like the movement of the serpent in the first line. It conveys a sense of harmony and beauty in the way code is written and executed. Writing efficient and elegant code is a skill that many programmers aspire to achieve.\\n\\n3. \"Python, a language.\"\\nIn the final line, the specific programming language \"Python\" is mentioned. Python is known for its simplicity and readability, making it a popular choice for many developers. By naming Python in this Haiku, the poet not only pays homage to the language but also ties it back to the imagery of the sleek serpent, further emphasizing the connection between nature and programming.\\n\\nOverall, this Haiku effectively captures the essence of coding as a harmonious and graceful process, akin to the movements of a serpent, with a subtle nod to the Python programming language.', additional_kwargs={}, response_metadata={'finish_reason': 'stop', 'model_name': 'gpt-3.5-turbo-0125'}, id='run-26ddc258-12f1-4bfb-b5e9-0e064c61c68d-0')"
      ]
     },
     "execution_count": 1,
     "metadata": {},
     "output_type": "execute_result"
    }
   ],
   "source": [
    "from langchain_openai import ChatOpenAI # type: ignore\n",
    "from langchain.prompts import ChatPromptTemplate # type: ignore\n",
    "from langchain.callbacks import StreamingStdOutCallbackHandler # type: ignore\n",
    "\n",
    "chat = ChatOpenAI(\n",
    "    model_name=\"gpt-3.5-turbo\", \n",
    "    streaming=True,\n",
    "    callbacks=[StreamingStdOutCallbackHandler()],\n",
    "    max_completion_tokens=500\n",
    ")\n",
    "\n",
    "#create Haiku\n",
    "haiku_prompt = ChatPromptTemplate.from_messages([\n",
    "    (\"system\", \"You are a world-class programmer and reknowned poet. You specialize in creating Haiku about cutting edge technology.\"),\n",
    "    (\"human\", \"Give me a world-class Haiku about {programming_language}.\")\n",
    "])\n",
    "haiku_chain = haiku_prompt | chat\n",
    "\n",
    "#explaining Haiku\n",
    "explain_haiku_prompt = ChatPromptTemplate.from_messages([\n",
    "    (\"system\", \"You are a world-class programmer and poet, who specialize in making interpretations on Haiku. You explain Haiku for people who know nothing about poetry.\"),\n",
    "    (\"human\", \"Give me detailed explanations about the following poetry: {poetry}.\")\n",
    "])\n",
    "explain_haiku_chain = explain_haiku_prompt | chat\n",
    "\n",
    "#chaining chains\n",
    "final_chain = {\"poetry\":haiku_chain}|explain_haiku_chain\n",
    "\n",
    "#call API\n",
    "final_chain.invoke(\"python\")"
   ]
  },
  {
   "cell_type": "code",
   "execution_count": null,
   "metadata": {},
   "outputs": [],
   "source": []
  }
 ],
 "metadata": {
  "kernelspec": {
   "display_name": ".venv",
   "language": "python",
   "name": "python3"
  },
  "language_info": {
   "codemirror_mode": {
    "name": "ipython",
    "version": 3
   },
   "file_extension": ".py",
   "mimetype": "text/x-python",
   "name": "python",
   "nbconvert_exporter": "python",
   "pygments_lexer": "ipython3",
   "version": "3.9.6"
  }
 },
 "nbformat": 4,
 "nbformat_minor": 2
}
