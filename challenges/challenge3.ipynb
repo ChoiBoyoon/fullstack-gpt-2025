{
 "cells": [
  {
   "cell_type": "code",
   "execution_count": 3,
   "metadata": {},
   "outputs": [
    {
     "name": "stdout",
     "output_type": "stream",
     "text": [
      "{'movie': 'Harry Potter'}\n",
      "content='⚡️🧙\\u200d♂️🔮' additional_kwargs={'refusal': None} response_metadata={'token_usage': {'completion_tokens': 16, 'prompt_tokens': 86, 'total_tokens': 102, 'completion_tokens_details': {'accepted_prediction_tokens': 0, 'audio_tokens': 0, 'reasoning_tokens': 0, 'rejected_prediction_tokens': 0}, 'prompt_tokens_details': {'audio_tokens': 0, 'cached_tokens': 0}}, 'model_name': 'gpt-3.5-turbo-0125', 'system_fingerprint': None, 'id': 'chatcmpl-BPwkrWxc52IFjLj816KvOiPhSOx6S', 'finish_reason': 'stop', 'logprobs': None} id='run-05785a3b-b8cb-431e-9f82-2b8925625d69-0' usage_metadata={'input_tokens': 86, 'output_tokens': 16, 'total_tokens': 102, 'input_token_details': {'audio': 0, 'cache_read': 0}, 'output_token_details': {'audio': 0, 'reasoning': 0}}\n",
      "{'movie': '50 shades of grey'}\n",
      "content='👔💋🔥' additional_kwargs={'refusal': None} response_metadata={'token_usage': {'completion_tokens': 9, 'prompt_tokens': 113, 'total_tokens': 122, 'completion_tokens_details': {'accepted_prediction_tokens': 0, 'audio_tokens': 0, 'reasoning_tokens': 0, 'rejected_prediction_tokens': 0}, 'prompt_tokens_details': {'audio_tokens': 0, 'cached_tokens': 0}}, 'model_name': 'gpt-3.5-turbo-0125', 'system_fingerprint': None, 'id': 'chatcmpl-BPwksCJkh7irqvb7Ghcx2srcz5VQT', 'finish_reason': 'stop', 'logprobs': None} id='run-a9df01bb-644b-460b-9ba3-0a3cb21c3a24-0' usage_metadata={'input_tokens': 113, 'output_tokens': 9, 'total_tokens': 122, 'input_token_details': {'audio': 0, 'cache_read': 0}, 'output_token_details': {'audio': 0, 'reasoning': 0}}\n",
      "{'movie': 'Avatar'}\n",
      "content='🌿🌎💙' additional_kwargs={'refusal': None} response_metadata={'token_usage': {'completion_tokens': 9, 'prompt_tokens': 130, 'total_tokens': 139, 'completion_tokens_details': {'accepted_prediction_tokens': 0, 'audio_tokens': 0, 'reasoning_tokens': 0, 'rejected_prediction_tokens': 0}, 'prompt_tokens_details': {'audio_tokens': 0, 'cached_tokens': 0}}, 'model_name': 'gpt-3.5-turbo-0125', 'system_fingerprint': None, 'id': 'chatcmpl-BPwktHCnmOJ7y71C8YCtFVeRyS2fL', 'finish_reason': 'stop', 'logprobs': None} id='run-b318c0f3-d53f-455e-a19f-32c67ee3b4e9-0' usage_metadata={'input_tokens': 130, 'output_tokens': 9, 'total_tokens': 139, 'input_token_details': {'audio': 0, 'cache_read': 0}, 'output_token_details': {'audio': 0, 'reasoning': 0}}\n",
      "{'movie': 'What is the 3 most recent movies that I asked about?'}\n",
      "content='1. Harry Potter\\n2. 50 Shades of Grey\\n3. Avatar' additional_kwargs={'refusal': None} response_metadata={'token_usage': {'completion_tokens': 17, 'prompt_tokens': 159, 'total_tokens': 176, 'completion_tokens_details': {'accepted_prediction_tokens': 0, 'audio_tokens': 0, 'reasoning_tokens': 0, 'rejected_prediction_tokens': 0}, 'prompt_tokens_details': {'audio_tokens': 0, 'cached_tokens': 0}}, 'model_name': 'gpt-3.5-turbo-0125', 'system_fingerprint': None, 'id': 'chatcmpl-BPwkutJ9gFeouteQchg0rBVDuz282', 'finish_reason': 'stop', 'logprobs': None} id='run-5e07b30d-3e0d-4ed4-b2b4-80b0a12a549f-0' usage_metadata={'input_tokens': 159, 'output_tokens': 17, 'total_tokens': 176, 'input_token_details': {'audio': 0, 'cache_read': 0}, 'output_token_details': {'audio': 0, 'reasoning': 0}}\n"
     ]
    }
   ],
   "source": [
    "from langchain_openai import ChatOpenAI\n",
    "from langchain.prompts.few_shot import FewShotChatMessagePromptTemplate\n",
    "from langchain.prompts import ChatPromptTemplate, MessagesPlaceholder\n",
    "from langchain.memory import ConversationSummaryBufferMemory\n",
    "from langchain.schema.runnable import RunnablePassthrough\n",
    "\n",
    "llm = ChatOpenAI(temperature=0.1)\n",
    "\n",
    "#examples\n",
    "examples = [\n",
    "    {\"movie\":\"Titanic\", \"emoji\":\"🍝💼🔫\"},\n",
    "    {\"movie\":\"Star Wars\", \"emoji\":\"🌌⚔️👽\"},\n",
    "    {\"movie\":\"The Lord of the Rings\", \"emoji\":\"🧙‍♂️⚔️💍\"},\n",
    "]\n",
    "example_prompt = ChatPromptTemplate.from_messages([\n",
    "    (\"human\", \"{movie}\"),\n",
    "    (\"ai\",\"{emoji}\")\n",
    "])\n",
    "fewshot_example_prompt = FewShotChatMessagePromptTemplate(\n",
    "    example_prompt = example_prompt,\n",
    "    examples=examples\n",
    ")\n",
    "\n",
    "#memory\n",
    "memory = ConversationSummaryBufferMemory(\n",
    "    llm=llm,\n",
    "    max_token_limit=100,\n",
    "    memory_key = \"history\",\n",
    "    return_messages=True\n",
    ")\n",
    "def load_memory(_):\n",
    "    print(_)\n",
    "    return memory.load_memory_variables({})[\"history\"]\n",
    "\n",
    "#prompt\n",
    "prompt = ChatPromptTemplate.from_messages([\n",
    "    (\"system\", \"you are a movie and emoji expert.\"),\n",
    "    fewshot_example_prompt,\n",
    "    MessagesPlaceholder(variable_name=\"history\"),\n",
    "    (\"human\",\"{movie}\")\n",
    "])\n",
    "\n",
    "\n",
    "#LCEL\n",
    "chain = RunnablePassthrough.assign(history=load_memory) | prompt | llm \n",
    "\n",
    "def invoke_chain(movie):\n",
    "    result = chain.invoke({\"movie\":movie})\n",
    "    memory.save_context(\n",
    "        {\"input\":movie}, \n",
    "        {\"output\":result.content}\n",
    "    )\n",
    "    print(result)\n",
    "\n",
    "invoke_chain(\"Harry Potter\")\n",
    "invoke_chain(\"50 shades of grey\")\n",
    "invoke_chain(\"Avatar\")\n",
    "invoke_chain(\"What is the 3 most recent movies that I asked about?\")\n"
   ]
  },
  {
   "cell_type": "code",
   "execution_count": null,
   "metadata": {},
   "outputs": [],
   "source": []
  }
 ],
 "metadata": {
  "kernelspec": {
   "display_name": ".venv",
   "language": "python",
   "name": "python3"
  },
  "language_info": {
   "codemirror_mode": {
    "name": "ipython",
    "version": 3
   },
   "file_extension": ".py",
   "mimetype": "text/x-python",
   "name": "python",
   "nbconvert_exporter": "python",
   "pygments_lexer": "ipython3",
   "version": "3.9.6"
  }
 },
 "nbformat": 4,
 "nbformat_minor": 2
}
