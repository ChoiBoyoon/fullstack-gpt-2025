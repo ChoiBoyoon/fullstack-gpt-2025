{
 "cells": [
  {
   "cell_type": "code",
   "execution_count": 2,
   "metadata": {},
   "outputs": [
    {
     "name": "stdout",
     "output_type": "stream",
     "text": [
      "{'movie': 'Harry Potter'}\n",
      "content='⚡️🧙\\u200d♂️🔮' additional_kwargs={'refusal': None} response_metadata={'token_usage': {'completion_tokens': 16, 'prompt_tokens': 86, 'total_tokens': 102, 'completion_tokens_details': {'accepted_prediction_tokens': 0, 'audio_tokens': 0, 'reasoning_tokens': 0, 'rejected_prediction_tokens': 0}, 'prompt_tokens_details': {'audio_tokens': 0, 'cached_tokens': 0}}, 'model_name': 'gpt-3.5-turbo-0125', 'system_fingerprint': None, 'id': 'chatcmpl-BPwj61wcSbCcvKgat1qMmUNexVBeC', 'finish_reason': 'stop', 'logprobs': None} id='run-73b960a6-c5f8-4082-ade3-d1090061993a-0' usage_metadata={'input_tokens': 86, 'output_tokens': 16, 'total_tokens': 102, 'input_token_details': {'audio': 0, 'cache_read': 0}, 'output_token_details': {'audio': 0, 'reasoning': 0}}\n",
      "{'movie': '50 shades of grey'}\n",
      "content='👔💋🔥' additional_kwargs={'refusal': None} response_metadata={'token_usage': {'completion_tokens': 9, 'prompt_tokens': 113, 'total_tokens': 122, 'completion_tokens_details': {'accepted_prediction_tokens': 0, 'audio_tokens': 0, 'reasoning_tokens': 0, 'rejected_prediction_tokens': 0}, 'prompt_tokens_details': {'audio_tokens': 0, 'cached_tokens': 0}}, 'model_name': 'gpt-3.5-turbo-0125', 'system_fingerprint': None, 'id': 'chatcmpl-BPwj7KAZv8z9ElxrSnY3deZgEXd0L', 'finish_reason': 'stop', 'logprobs': None} id='run-8eb51f60-e2fa-46f6-82b3-ff37f0b047d4-0' usage_metadata={'input_tokens': 113, 'output_tokens': 9, 'total_tokens': 122, 'input_token_details': {'audio': 0, 'cache_read': 0}, 'output_token_details': {'audio': 0, 'reasoning': 0}}\n",
      "{'movie': 'Avatar'}\n",
      "content='🌿🌎💙' additional_kwargs={'refusal': None} response_metadata={'token_usage': {'completion_tokens': 9, 'prompt_tokens': 130, 'total_tokens': 139, 'completion_tokens_details': {'accepted_prediction_tokens': 0, 'audio_tokens': 0, 'reasoning_tokens': 0, 'rejected_prediction_tokens': 0}, 'prompt_tokens_details': {'audio_tokens': 0, 'cached_tokens': 0}}, 'model_name': 'gpt-3.5-turbo-0125', 'system_fingerprint': None, 'id': 'chatcmpl-BPwj783pqrSouJqQPoEK5HSuSQUKv', 'finish_reason': 'stop', 'logprobs': None} id='run-3a6b1cf3-5ab8-4599-9517-04791df48d7f-0' usage_metadata={'input_tokens': 130, 'output_tokens': 9, 'total_tokens': 139, 'input_token_details': {'audio': 0, 'cache_read': 0}, 'output_token_details': {'audio': 0, 'reasoning': 0}}\n"
     ]
    }
   ],
   "source": [
    "from langchain_openai import ChatOpenAI\n",
    "from langchain.prompts.few_shot import FewShotChatMessagePromptTemplate\n",
    "from langchain.prompts import ChatPromptTemplate, MessagesPlaceholder\n",
    "from langchain.memory import ConversationSummaryBufferMemory\n",
    "from langchain.schema.runnable import RunnablePassthrough\n",
    "\n",
    "llm = ChatOpenAI(temperature=0.1)\n",
    "\n",
    "#examples\n",
    "examples = [\n",
    "    {\"movie\":\"Titanic\", \"emoji\":\"🍝💼🔫\"},\n",
    "    {\"movie\":\"Star Wars\", \"emoji\":\"🌌⚔️👽\"},\n",
    "    {\"movie\":\"The Lord of the Rings\", \"emoji\":\"🧙‍♂️⚔️💍\"},\n",
    "]\n",
    "example_prompt = ChatPromptTemplate.from_messages([\n",
    "    (\"human\", \"{movie}\"),\n",
    "    (\"ai\",\"{emoji}\")\n",
    "])\n",
    "fewshot_example_prompt = FewShotChatMessagePromptTemplate(\n",
    "    example_prompt = example_prompt,\n",
    "    examples=examples\n",
    ")\n",
    "\n",
    "#memory\n",
    "memory = ConversationSummaryBufferMemory(\n",
    "    llm=llm,\n",
    "    max_token_limit=100,\n",
    "    memory_key = \"history\",\n",
    "    return_messages=True\n",
    ")\n",
    "def load_memory(_):\n",
    "    print(_)\n",
    "    return memory.load_memory_variables({})[\"history\"]\n",
    "\n",
    "#prompt\n",
    "prompt = ChatPromptTemplate.from_messages([\n",
    "    (\"system\", \"you are a movie and emoji expert.\"),\n",
    "    fewshot_example_prompt,\n",
    "    MessagesPlaceholder(variable_name=\"history\"),\n",
    "    (\"human\",\"{movie}\")\n",
    "])\n",
    "\n",
    "\n",
    "#LCEL\n",
    "chain = RunnablePassthrough.assign(history=load_memory) | prompt | llm \n",
    "\n",
    "def invoke_chain(movie):\n",
    "    result = chain.invoke({\"movie\":movie})\n",
    "    memory.save_context(\n",
    "        {\"input\":movie}, \n",
    "        {\"output\":result.content}\n",
    "    )\n",
    "    print(result)\n",
    "\n",
    "invoke_chain(\"Harry Potter\")\n",
    "invoke_chain(\"50 shades of grey\")\n",
    "invoke_chain(\"Avatar\")\n"
   ]
  },
  {
   "cell_type": "code",
   "execution_count": null,
   "metadata": {},
   "outputs": [],
   "source": []
  }
 ],
 "metadata": {
  "kernelspec": {
   "display_name": ".venv",
   "language": "python",
   "name": "python3"
  },
  "language_info": {
   "codemirror_mode": {
    "name": "ipython",
    "version": 3
   },
   "file_extension": ".py",
   "mimetype": "text/x-python",
   "name": "python",
   "nbconvert_exporter": "python",
   "pygments_lexer": "ipython3",
   "version": "3.9.6"
  }
 },
 "nbformat": 4,
 "nbformat_minor": 2
}
