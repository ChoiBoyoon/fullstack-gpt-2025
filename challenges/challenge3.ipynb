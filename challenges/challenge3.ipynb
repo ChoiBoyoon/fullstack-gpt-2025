{
 "cells": [
  {
   "cell_type": "code",
   "execution_count": 11,
   "metadata": {},
   "outputs": [
    {
     "name": "stderr",
     "output_type": "stream",
     "text": [
      "libmagic is unavailable but assists in filetype detection. Please consider installing libmagic for better results.\n"
     ]
    },
    {
     "name": "stdout",
     "output_type": "stream",
     "text": [
      "{'question': 'Is Aaronson guilty?'}\n",
      "content=\"I don't have that information.\" additional_kwargs={'refusal': None} response_metadata={'token_usage': {'completion_tokens': 8, 'prompt_tokens': 2269, 'total_tokens': 2277, 'completion_tokens_details': {'accepted_prediction_tokens': 0, 'audio_tokens': 0, 'reasoning_tokens': 0, 'rejected_prediction_tokens': 0}, 'prompt_tokens_details': {'audio_tokens': 0, 'cached_tokens': 0}}, 'model_name': 'gpt-3.5-turbo-0125', 'system_fingerprint': None, 'id': 'chatcmpl-BTAaOpOpex0I437oyotr8wRI7Onyt', 'finish_reason': 'stop', 'logprobs': None} id='run-71271ed2-5533-4572-8f77-f26bde1050b5-0' usage_metadata={'input_tokens': 2269, 'output_tokens': 8, 'total_tokens': 2277, 'input_token_details': {'audio': 0, 'cache_read': 0}, 'output_token_details': {'audio': 0, 'reasoning': 0}}\n",
      "{'question': 'What message did he write in the table?'}\n",
      "content='He wrote \"FREEDOM IS SLAVERY\" and \"TWO AND TWO MAKE FIVE\" in the table.' additional_kwargs={'refusal': None} response_metadata={'token_usage': {'completion_tokens': 27, 'prompt_tokens': 1954, 'total_tokens': 1981, 'completion_tokens_details': {'accepted_prediction_tokens': 0, 'audio_tokens': 0, 'reasoning_tokens': 0, 'rejected_prediction_tokens': 0}, 'prompt_tokens_details': {'audio_tokens': 0, 'cached_tokens': 0}}, 'model_name': 'gpt-3.5-turbo-0125', 'system_fingerprint': None, 'id': 'chatcmpl-BTAaPVJK3ZATjjLUvxTNC5Lc4Rq2X', 'finish_reason': 'stop', 'logprobs': None} id='run-2966774b-9e81-4e16-adf2-40e584ca1330-0' usage_metadata={'input_tokens': 1954, 'output_tokens': 27, 'total_tokens': 1981, 'input_token_details': {'audio': 0, 'cache_read': 0}, 'output_token_details': {'audio': 0, 'reasoning': 0}}\n",
      "{'question': 'Who is Julia?'}\n",
      "content='Julia is a character mentioned in the text.' additional_kwargs={'refusal': None} response_metadata={'token_usage': {'completion_tokens': 11, 'prompt_tokens': 2422, 'total_tokens': 2433, 'completion_tokens_details': {'accepted_prediction_tokens': 0, 'audio_tokens': 0, 'reasoning_tokens': 0, 'rejected_prediction_tokens': 0}, 'prompt_tokens_details': {'audio_tokens': 0, 'cached_tokens': 0}}, 'model_name': 'gpt-3.5-turbo-0125', 'system_fingerprint': None, 'id': 'chatcmpl-BTAaQHBcGoUePb1N8tS9oywTzIIDF', 'finish_reason': 'stop', 'logprobs': None} id='run-8312e321-7dc2-4b19-87a5-bbbd9695af0f-0' usage_metadata={'input_tokens': 2422, 'output_tokens': 11, 'total_tokens': 2433, 'input_token_details': {'audio': 0, 'cache_read': 0}, 'output_token_details': {'audio': 0, 'reasoning': 0}}\n"
     ]
    }
   ],
   "source": [
    "from langchain.prompts import ChatPromptTemplate, MessagesPlaceholder\n",
    "from langchain.schema.runnable import RunnablePassthrough #input이 다음 체인으로 넘어가게 해줌\n",
    "from langchain_core.runnables import RunnableLambda\n",
    "\n",
    "#랭스미스와의 연동을 위해 필요 (2024년 말 업데이트 이후 자동 트레이싱이 비활성화 됨. 수동으로 callbacks를 줘야 함)\n",
    "from langsmith import Client\n",
    "from langchain.callbacks.tracers.langchain import LangChainTracer\n",
    "\n",
    "from langchain_openai import ChatOpenAI\n",
    "from langchain.document_loaders import UnstructuredFileLoader\n",
    "from langchain.text_splitter import CharacterTextSplitter\n",
    "from langchain_openai import OpenAIEmbeddings\n",
    "from langchain.embeddings import CacheBackedEmbeddings\n",
    "from langchain.storage import LocalFileStore\n",
    "from langchain.vectorstores import Chroma\n",
    "from langchain.memory import ConversationBufferMemory\n",
    "\n",
    "client = Client()\n",
    "tracer = LangChainTracer(client=client)\n",
    "llm = ChatOpenAI(model=\"gpt-3.5-turbo\", temperature=0.1, callbacks=[tracer])\n",
    "\n",
    "cache_dir = LocalFileStore(\"./.cache/\") \n",
    "\n",
    "splitter = CharacterTextSplitter.from_tiktoken_encoder(\n",
    "    separator=\"\\n\",\n",
    "    chunk_size=600,\n",
    "    chunk_overlap=100\n",
    ")\n",
    "\n",
    "loader = UnstructuredFileLoader(\"../files/chapter_three.txt\")\n",
    "\n",
    "docs=loader.load_and_split(text_splitter=splitter)\n",
    "\n",
    "embeddings = OpenAIEmbeddings()\n",
    "\n",
    "cached_embeddings = CacheBackedEmbeddings.from_bytes_store(\n",
    "    embeddings, cache_dir\n",
    ")\n",
    "\n",
    "vectorstore = Chroma.from_documents(docs, cached_embeddings)\n",
    "\n",
    "results = vectorstore.similarity_search(\"Where does Winston live?\")\n",
    "\n",
    "retriever = vectorstore.as_retriever()\n",
    "\n",
    "prompt = ChatPromptTemplate.from_messages([\n",
    "    (\"system\", \"You are a helpful assistant. Answer questions using only the following context. If you don't know the answer just say you don't know, don't make it up:\\n{context}\"),\n",
    "    MessagesPlaceholder(variable_name=\"history\"),\n",
    "    (\"human\",\"{question}\")\n",
    "])\n",
    "\n",
    "memory = ConversationBufferMemory(return_messages=True)\n",
    "\n",
    "def load_memory(_):\n",
    "    print(_)\n",
    "    return memory.load_memory_variables({})[\"history\"]\n",
    "\n",
    "chain = (RunnablePassthrough.assign(history=load_memory) \n",
    "         | {\"context\":RunnableLambda(lambda x: retriever.invoke(x[\"question\"])), \n",
    "            \"question\":RunnablePassthrough(),\n",
    "            \"history\":RunnableLambda(lambda x: x[\"history\"])} \n",
    "         | prompt | llm\n",
    ")\n",
    "\n",
    "def invoke_chain(question):\n",
    "    result = chain.invoke({\"question\":question})\n",
    "    memory.save_context(\n",
    "        {\"input\":question}, \n",
    "        {\"output\":result.content}\n",
    "    )\n",
    "    print(result)\n",
    "\n",
    "invoke_chain(\"Is Aaronson guilty?\")\n",
    "invoke_chain(\"What message did he write in the table?\")\n",
    "invoke_chain(\"Who is Julia?\")"
   ]
  },
  {
   "cell_type": "code",
   "execution_count": null,
   "metadata": {},
   "outputs": [],
   "source": []
  }
 ],
 "metadata": {
  "kernelspec": {
   "display_name": ".venv",
   "language": "python",
   "name": "python3"
  },
  "language_info": {
   "codemirror_mode": {
    "name": "ipython",
    "version": 3
   },
   "file_extension": ".py",
   "mimetype": "text/x-python",
   "name": "python",
   "nbconvert_exporter": "python",
   "pygments_lexer": "ipython3",
   "version": "3.9.6"
  }
 },
 "nbformat": 4,
 "nbformat_minor": 2
}
