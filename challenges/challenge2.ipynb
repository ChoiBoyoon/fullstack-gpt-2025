{
 "cells": [
  {
   "cell_type": "code",
   "execution_count": 15,
   "metadata": {},
   "outputs": [
    {
     "name": "stdout",
     "output_type": "stream",
     "text": [
      "System: you are a movie expert\n",
      "Human: Tell me about Avatar.\n",
      "AI: Title: Avatar(2009)\n",
      "Director: James Cameron\n",
      "Main Cast: Sam Worthington, Zoe Saldaña, Sigourney Weaver\n",
      "Budget: $237 million\n",
      "Box Office: $2.92 billion\n",
      "Genre: Science Fiction, Action, Adventure\n",
      "Synopsis: Set on the lush alien world of Pandora, a paraplegic marine is dispatched to infiltrate the native Na'vi tribe, but becomes torn between following his orders and protecting the world he feels is his home.\n",
      "\n",
      "Human: Tell me about Avengers Endgame.\n",
      "AI: Title: Avengers: Endgame(2019)\n",
      "Director: Anthony and Joe Russo\n",
      "Main Cast: Robert Downey Jr., Chris Evans, Scarlett Johansson\n",
      "Budget: $356 million\n",
      "Box Office: $2.80 billion\n",
      "Genre: Superhero, Action, Sci-Fi\n",
      "Synopsis: The Avengers assemble once more to undo the catastrophic events caused by Thanos in their previous battle, leading to a final showdown to save the universe.\n",
      "\n",
      "Human: Tell me about Millenium. \n",
      "\n",
      "\n",
      "Title: The Girl with the Dragon Tattoo(2011)\n",
      "Director: David Fincher\n",
      "Main Cast: Rooney Mara, Daniel Craig, Christopher Plummer\n",
      "Budget: $90 million\n",
      "Box Office: $232.6 million\n",
      "Genre: Crime, Drama, Mystery\n",
      "Synopsis: A journalist and a brilliant but troubled hacker team up to solve a decades-old disappearance case, unravelling a dark and disturbing conspiracy in the process.\n"
     ]
    }
   ],
   "source": [
    "from langchain_openai import ChatOpenAI\n",
    "from langchain.prompts.few_shot import FewShotChatMessagePromptTemplate\n",
    "from langchain.prompts import ChatPromptTemplate\n",
    "from langchain.callbacks import StreamingStdOutCallbackHandler\n",
    "\n",
    "chat = ChatOpenAI(\n",
    "    model_name=\"gpt-3.5-turbo\", \n",
    "    streaming=True,\n",
    "    callbacks=[StreamingStdOutCallbackHandler()]\n",
    ")\n",
    "\n",
    "examples = [\n",
    "    {\"movie\":\"Avatar\", \n",
    "     \"info\":\"Title: Avatar(2009)\\nDirector: James Cameron\\nMain Cast: Sam Worthington, Zoe Saldaña, Sigourney Weaver\\nBudget: $237 million\\nBox Office: $2.92 billion\\nGenre: Science Fiction, Action, Adventure\\nSynopsis: Set on the lush alien world of Pandora, a paraplegic marine is dispatched to infiltrate the native Na'vi tribe, but becomes torn between following his orders and protecting the world he feels is his home.\\n\"},\n",
    "    {\"movie\":\"Avengers Endgame\", \n",
    "    \"info\":\"Title: Avengers: Endgame(2019)\\nDirector: Anthony and Joe Russo\\nMain Cast: Robert Downey Jr., Chris Evans, Scarlett Johansson\\nBudget: $356 million\\nBox Office: $2.80 billion\\nGenre: Superhero, Action, Sci-Fi\\nSynopsis: The Avengers assemble once more to undo the catastrophic events caused by Thanos in their previous battle, leading to a final showdown to save the universe.\\n\"},\n",
    "    # {\"movie\":\"Avatar The Way of Water\", \n",
    "    # \"info\":\"Title: Avatar: The Way of Water (2022)\\nDirector: James Cameron\\nMain Cast: Sam Worthington, Zoe Saldaña, Sigourney Weaver\\nBudget: $350 million\\nBox Office: $2.32 billion\\nGenre: Science Fiction, Action, Adventure\\nSynopsis: Jake and Neytiri have formed a family, but when an old threat resurfaces, they are forced to leave their home and explore the regions of Pandora, including the oceans.\"},\n",
    "    # {\"movie\":\"Titanic\", \n",
    "    # \"info\":\"Title: Titanic (1997)\\nDirector: James Cameron\\nMain Cast: Leonardo DiCaprio, Kate Winslet, Billy Zane\\nBudget: $200 million\\nBox Office: $2.23 billion\\nGenre: Romance, Drama\\nSynopsis: A young couple from different social backgrounds fall in love aboard the ill-fated R.M.S. Titanic, leading to a tragic and unforgettable love story.\"},\n",
    "    # {\"movie\":\"Star Wars: The Force Awakens\",\n",
    "    #  \"info\":\"Title: Star Wars: The Force Awakens (2015)\\nDirector: J.J. Abrams\\nMain Cast: Daisy Ridley, John Boyega, Harrison Ford\\nBudget: $245 million\\nBox Office: $2.06 billion\\nGenre: Science Fiction, Action, Adventure\\nSynopsis: A new heroine emerges in the galaxy as the Resistance faces the First Order, leading to the return of familiar faces and the discovery of new heroes.\"}\n",
    "]\n",
    "\n",
    "example_prompt = ChatPromptTemplate.from_messages([\n",
    "    (\"human\", \"Tell me about {movie}.\"),\n",
    "    (\"ai\",\"{info}\")\n",
    "])\n",
    "\n",
    "fewshot_example_prompt = FewShotChatMessagePromptTemplate(\n",
    "    example_prompt = example_prompt,\n",
    "    examples=examples\n",
    ")\n",
    "\n",
    "final_prompt = ChatPromptTemplate.from_messages([\n",
    "    (\"system\", \"you are a movie expert\"),\n",
    "    fewshot_example_prompt,\n",
    "    (\"human\",\"Tell me about {movie}.\")\n",
    "])\n",
    "\n",
    "print(final_prompt.format(movie=\"Millenium\"),\"\\n\\n\") #to see if the prompt is correct\n",
    "\n",
    "chain = final_prompt | chat\n",
    "millenium_info = chain.invoke(\"The Girl with the Dragon Tattoo (the American adaptation)\")\n"
   ]
  },
  {
   "cell_type": "code",
   "execution_count": null,
   "metadata": {},
   "outputs": [],
   "source": []
  }
 ],
 "metadata": {
  "kernelspec": {
   "display_name": ".venv",
   "language": "python",
   "name": "python3"
  },
  "language_info": {
   "codemirror_mode": {
    "name": "ipython",
    "version": 3
   },
   "file_extension": ".py",
   "mimetype": "text/x-python",
   "name": "python",
   "nbconvert_exporter": "python",
   "pygments_lexer": "ipython3",
   "version": "3.9.6"
  }
 },
 "nbformat": 4,
 "nbformat_minor": 2
}
