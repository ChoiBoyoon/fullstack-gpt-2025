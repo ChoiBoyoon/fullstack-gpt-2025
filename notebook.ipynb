{
 "cells": [
  {
   "cell_type": "code",
   "execution_count": 1,
   "id": "66717faf",
   "metadata": {},
   "outputs": [
    {
     "name": "stderr",
     "output_type": "stream",
     "text": [
      "/Users/boyoon/Documents/GitHub/fullstack-gpt-2025/.venv/lib/python3.9/site-packages/urllib3/__init__.py:35: NotOpenSSLWarning: urllib3 v2 only supports OpenSSL 1.1.1+, currently the 'ssl' module is compiled with 'LibreSSL 2.8.3'. See: https://github.com/urllib3/urllib3/issues/3020\n",
      "  warnings.warn(\n",
      "/var/folders/n3/6fbssxjx1x7bxcnvp_nn7g3r0000gn/T/ipykernel_25744/292855851.py:4: LangChainDeprecationWarning: The method `BaseChatModel.predict` was deprecated in langchain-core 0.1.7 and will be removed in 1.0. Use :meth:`~invoke` instead.\n",
      "  chat_response = chat.predict(question)\n"
     ]
    },
    {
     "name": "stdout",
     "output_type": "stream",
     "text": [
      "If you mean “planets in our Solar System,” there are eight, in order from the Sun:  \n",
      "1. Mercury  \n",
      "2. Venus  \n",
      "3. Earth  \n",
      "4. Mars  \n",
      "5. Jupiter  \n",
      "6. Saturn  \n",
      "7. Uranus  \n",
      "8. Neptune  \n",
      "\n",
      "(Pluto and a handful of other bodies—Ceres, Eris, Haumea and Makemake—are classified as “dwarf planets” by the International Astronomical Union.)\n",
      "\n",
      "If you widen the scope to the rest of the galaxy (and beyond), astronomers have now confirmed over 5 000 exoplanets orbiting other stars—and ongoing surveys suggest there may be literally billions more. The total number of planets in the universe is unknown (and almost certainly vast).\n"
     ]
    }
   ],
   "source": [
    "from langchain_openai import ChatOpenAI # type: ignore\n",
    "chat = ChatOpenAI(model_name=\"o4-mini\")\n",
    "question=\"How many planets are there?\"\n",
    "# chat_response = chat.predict(question) #this method(predict) will soon be deprecated\n",
    "chat_response = chat.invoke(question)\n",
    "print(chat_response)\n"
   ]
  },
  {
   "cell_type": "markdown",
   "id": "87134bf4",
   "metadata": {},
   "source": [
    "### 3.1 Predict Messages"
   ]
  },
  {
   "cell_type": "code",
   "execution_count": 7,
   "id": "cc135d05-1b92-4c36-af1c-a0405abfa31e",
   "metadata": {},
   "outputs": [
    {
     "name": "stdout",
     "output_type": "stream",
     "text": [
      "content='La distanza in linea d’aria tra Città del Messico e Parigi (capitali di Messico e Francia) è di circa 9.100 chilometri.  \\nMi chiamo Paolo.' additional_kwargs={'refusal': None} response_metadata={'token_usage': {'completion_tokens': 445, 'prompt_tokens': 52, 'total_tokens': 497, 'completion_tokens_details': {'accepted_prediction_tokens': 0, 'audio_tokens': 0, 'reasoning_tokens': 384, 'rejected_prediction_tokens': 0}, 'prompt_tokens_details': {'audio_tokens': 0, 'cached_tokens': 0}}, 'model_name': 'o4-mini-2025-04-16', 'system_fingerprint': None, 'id': 'chatcmpl-BOpSZ5ykJifXMVpgHmW83n3XXMp1S', 'finish_reason': 'stop', 'logprobs': None} id='run-0879f96f-2566-4069-a11b-f08a2aff606d-0' usage_metadata={'input_tokens': 52, 'output_tokens': 445, 'total_tokens': 497, 'input_token_details': {'audio': 0, 'cache_read': 0}, 'output_token_details': {'audio': 0, 'reasoning': 384}}\n"
     ]
    }
   ],
   "source": [
    "from langchain_openai import ChatOpenAI # type: ignore\n",
    "from langchain.schema import HumanMessage, AIMessage, SystemMessage # type: ignore\n",
    "\n",
    "chat = ChatOpenAI(model_name=\"o4-mini\")\n",
    "\n",
    "messages = [\n",
    "    SystemMessage(content=\"You are a geography expert. And you only reply in Italin.\"),\n",
    "    AIMessage(content=\"Ciao! Mi chiamo Paolo!\"),\n",
    "    HumanMessage(content=\"What is the distance between Mexico and France? And what's your name?\")\n",
    "]\n",
    "\n",
    "# res = chat.predict_messages(messages) #this method(predict_messages) will be soon deprecated.\n",
    "res = chat.invoke(messages)\n",
    "print(res)"
   ]
  },
  {
   "cell_type": "markdown",
   "id": "2183fb4a",
   "metadata": {},
   "source": [
    "### 3.2 Prompt Templates"
   ]
  },
  {
   "cell_type": "code",
   "execution_count": 10,
   "id": "16b96430",
   "metadata": {},
   "outputs": [
    {
     "data": {
      "text/plain": [
       "AIMessage(content='Η ευθύγραμμη (αεροπορική) απόσταση μεταξύ Πόλης του Μεξικού και Μπανγκόκ στην Ταϊλάνδη είναι περίπου 15\\xa0900 χιλιόμετρα.  \\nΤο όνομά μου είναι Βοηθός.', additional_kwargs={'refusal': None}, response_metadata={'token_usage': {'completion_tokens': 1040, 'prompt_tokens': 52, 'total_tokens': 1092, 'completion_tokens_details': {'accepted_prediction_tokens': 0, 'audio_tokens': 0, 'reasoning_tokens': 960, 'rejected_prediction_tokens': 0}, 'prompt_tokens_details': {'audio_tokens': 0, 'cached_tokens': 0}}, 'model_name': 'o4-mini-2025-04-16', 'system_fingerprint': None, 'id': 'chatcmpl-BOpeZkfHyYLZMyPpY2cKQTLEGLPBO', 'finish_reason': 'stop', 'logprobs': None}, id='run-8f1c67e9-7445-4c06-8b18-226395c20f59-0', usage_metadata={'input_tokens': 52, 'output_tokens': 1040, 'total_tokens': 1092, 'input_token_details': {'audio': 0, 'cache_read': 0}, 'output_token_details': {'audio': 0, 'reasoning': 960}})"
      ]
     },
     "execution_count": 10,
     "metadata": {},
     "output_type": "execute_result"
    }
   ],
   "source": [
    "from langchain_openai import ChatOpenAI # type: ignore\n",
    "from langchain.schema import HumanMessage, AIMessage, SystemMessage # type: ignore\n",
    "from langchain.prompts import PromptTemplate, ChatPromptTemplate # type: ignore\n",
    "\n",
    "chat = ChatOpenAI(model_name=\"o4-mini\")\n",
    "\n",
    "#PromptTempalte\n",
    "template = PromptTemplate.from_template(\"What is the distance between {country_a} and {country_b}?\")\n",
    "prompt = template.format(country_a=\"Korea\", country_b=\"France\")\n",
    "chat.invoke(prompt)\n",
    "\n",
    "#ChatPromptTemplate\n",
    "template = ChatPromptTemplate.from_messages([\n",
    "    (\"system\", \"You are a geography expert. And you only reply in {language}.\"),\n",
    "    (\"ai\", \"Ciao! Mi chiamo {name}!\"),\n",
    "    (\"human\", \"What is the distance between {country_a} and {country_b}? And what's your name?\")\n",
    "])\n",
    "\n",
    "prompt = template.format_messages(\n",
    "    language=\"Greek\",\n",
    "    name=\"Socrates\",\n",
    "    country_a=\"Mexico\",\n",
    "    country_b=\"Thailand\"\n",
    ")\n",
    "\n",
    "chat.invoke(prompt)"
   ]
  },
  {
   "cell_type": "markdown",
   "id": "d6a26639",
   "metadata": {},
   "source": [
    "### 3.3 OutputParser and LCEL\n",
    "* LCEL : LangChain Expression Language"
   ]
  },
  {
   "cell_type": "code",
   "execution_count": 22,
   "id": "86a47ecd-7cc2-42ed-9ad6-dc2d160ce49f",
   "metadata": {},
   "outputs": [
    {
     "data": {
      "text/plain": [
       "['blue',\n",
       " 'red',\n",
       " 'green',\n",
       " 'black',\n",
       " 'white',\n",
       " 'yellow',\n",
       " 'purple',\n",
       " 'orange',\n",
       " 'pink',\n",
       " 'brown']"
      ]
     },
     "execution_count": 22,
     "metadata": {},
     "output_type": "execute_result"
    }
   ],
   "source": [
    "from langchain_openai import ChatOpenAI # type: ignore\n",
    "from langchain.schema import BaseOutputParser #type: ignore\n",
    "from langchain.prompts import ChatPromptTemplate # type: ignore\n",
    "\n",
    "chat = ChatOpenAI(model_name=\"o4-mini\")\n",
    "\n",
    "class CommaOutputParser(BaseOutputParser):\n",
    "    def parse(self, text):\n",
    "        items = text.strip().split(\",\")\n",
    "        return list(map(str.strip, items))\n",
    "    \n",
    "p = CommaOutputParser()\n",
    "\n",
    "template = ChatPromptTemplate.from_messages([\n",
    "    (\"system\", \"You are a list generating machine. Everything you are asked will be answered with a comma-seperated list of {max_items} in lowercase. DO NOT reply with anything else.\"),\n",
    "    (\"human\", \"{question}\")\n",
    "])\n",
    "\n",
    "\n",
    "prompt = template.format_messages(\n",
    "    max_items = 10,\n",
    "    question=\"Give me 10 most popular colors.\"\n",
    ")\n",
    "\n",
    "colors = chat.invoke(prompt)\n",
    "p.parse(colors.content)"
   ]
  },
  {
   "cell_type": "code",
   "execution_count": 23,
   "id": "7354a3cc",
   "metadata": {},
   "outputs": [
    {
     "data": {
      "text/plain": [
       "['pikachu', 'charizard', 'eevee', 'mewtwo', 'bulbasaur']"
      ]
     },
     "execution_count": 23,
     "metadata": {},
     "output_type": "execute_result"
    }
   ],
   "source": [
    "# chain을 이용해서 위 코드를 개선할 수 있음\n",
    "from langchain_openai import ChatOpenAI # type: ignore\n",
    "from langchain.schema import BaseOutputParser #type: ignore\n",
    "from langchain.prompts import ChatPromptTemplate # type: ignore\n",
    "\n",
    "chat = ChatOpenAI(model_name=\"o4-mini\")\n",
    "\n",
    "class CommaOutputParser(BaseOutputParser):\n",
    "    def parse(self, text):\n",
    "        items = text.strip().split(\",\")\n",
    "        return list(map(str.strip, items))\n",
    "    \n",
    "p = CommaOutputParser()\n",
    "\n",
    "template = ChatPromptTemplate.from_messages([\n",
    "    (\"system\", \"You are a list generating machine. Everything you are asked will be answered with a comma-seperated list of {max_items} in lowercase. DO NOT reply with anything else.\"),\n",
    "    (\"human\", \"{question}\")\n",
    "])\n",
    "\n",
    "chain = template | chat | CommaOutputParser()\n",
    "\n",
    "chain.invoke({\n",
    "    \"max_items\":5, \n",
    "    \"question\":\"Give me the most popular pokemons.\"\n",
    "})"
   ]
  },
  {
   "cell_type": "markdown",
   "id": "9327eda2",
   "metadata": {},
   "source": [
    "### 3.4 Chaining Chains\n",
    "* callbacks & streaming=True : 답변 생성이 전부 완료될 때까지 기다리지 않음. 생성되는 즉시 결과를 확인."
   ]
  },
  {
   "cell_type": "code",
   "execution_count": 25,
   "id": "085d1d02-7eba-4188-b3e5-aba338e85e20",
   "metadata": {},
   "outputs": [
    {
     "name": "stdout",
     "output_type": "stream",
     "text": [
      "Here are three classic, easy-to-find Korean dishes you can try at home. Pick one (or all three!), gather the ingredients, and follow the step‑by‑step.  \n",
      "\n",
      "1. Kimchi Fried Rice (Kimchi Bokkeumbap)  \n",
      "Ingredients (2 servings)  \n",
      " • 2 cups cold cooked rice (preferably a day old)  \n",
      " • 1 cup well-fermented kimchi, chopped (reserve 2 Tbsp kimchi juice)  \n",
      " • ½ onion, diced  \n",
      " • 1 small carrot, julienned (optional)  \n",
      " • 2 scallions, sliced  \n",
      " • 1 Tbsp gochujang (Korean red‑pepper paste) or 1 tsp gochugaru + 1 Tbsp soy sauce  \n",
      " • 1 Tbsp soy sauce  \n",
      " • 1 tsp sugar  \n",
      " • 1 tsp sesame oil  \n",
      " • 1 Tbsp neutral oil (vegetable/canola)  \n",
      " • 2 eggs  \n",
      " • Toasted sesame seeds (for garnish)  \n",
      "\n",
      "Steps  \n",
      "1. Prep: Heat a large nonstick skillet over medium–high.  \n",
      "2. Aromatics: Add neutral oil → sauté onion and carrot 2–3 min until soft.  \n",
      "3. Kimchi: Add chopped kimchi + 2 Tbsp kimchi juice → cook 2 min.  \n",
      "4. Seasoning: Stir in gochujang (or gochugaru+soy), soy sauce, sugar → mix.  \n",
      "5. Rice: Break up cold rice with your hands or a spoon, add to pan → stir‑fry, pressing out clumps, ~4 min.  \n",
      "6. Finish: Drizzle sesame oil, toss in half the scallions → taste & adjust (add more soy or gochujang).  \n",
      "7. Eggs: In a separate pan, fry eggs sunny‑side up (runny yolk recommended).  \n",
      "8. Serve: Divide rice into bowls, top each with an egg, remaining scallion & sesame seeds.\n",
      "\n",
      "Approx. time: 15 min  \n",
      "\n",
      "2. Beef Bulgogi (Korean‑Style Marinated Beef)  \n",
      "Ingredients (2–3 servings)  \n",
      " • 300 g (10 oz) thinly sliced beef sirloin or ribeye  \n",
      " • 3 Tbsp soy sauce  \n",
      " • 2 Tbsp brown sugar or honey  \n",
      " • 1 Tbsp mirin or dry white wine (optional)  \n",
      " • 2 cloves garlic, minced  \n",
      " • 1 tsp fresh ginger, grated  \n",
      " • 1 Tbsp sesame oil  \n",
      " • Pinch black pepper  \n",
      " • ½ small onion, thinly sliced  \n",
      " • 1 small carrot, thin matchsticks (optional)  \n",
      " • 3 scallions, cut into 2 cm pieces  \n",
      " • 1 tsp toasted sesame seeds  \n",
      "\n",
      "Steps  \n",
      "1. Marinade: In a bowl combine soy sauce, sugar, mirin, garlic, ginger, sesame oil and pepper. Add beef + onion + carrot; mix well. Marinate 20–30 min (or up to 2 hr in fridge).  \n",
      "2. Cook: Heat a skillet or grill‑pan over high heat. Add beef mixture in a single layer (do in batches to avoid steaming). Sear 1–2 min per side until just cooked.  \n",
      "3. Toss in scallions for 30 sec.  \n",
      "4. Serve: Plate with steamed rice, lettuce leaves for wraps, kimchi and ssamjang (optional).\n",
      "\n",
      "Approx. time: 45 min (incl. marinating)  \n",
      "\n",
      "3. Bibimbap (Mixed Rice Bowl)  \n",
      "Ingredients (2 servings)  \n",
      " • 2 cups cooked short‑grain rice  \n",
      " • 100 g (3½ oz) ground beef or thinly sliced beef (optional)  \n",
      " • ½ zucchini, julienned  \n",
      " • 1 carrot, julienned  \n",
      " • 1 cup spinach or bean sprouts  \n",
      " • 4–5 shiitake mushrooms, sliced  \n",
      " • 2 Tbsp soy sauce, divided  \n",
      " • 1 tsp sugar  \n",
      " • 1 clove garlic, minced (divided)  \n",
      " • 1 tsp sesame oil, divided  \n",
      " • Neutral oil for sautéing  \n",
      " • 2 eggs  \n",
      " • Gochujang to taste (start with 1 Tbsp per bowl)  \n",
      " • Sesame seeds, scallion slices  \n",
      "\n",
      "Steps  \n",
      "1. Prep vegetables in separate bowls:  \n",
      "   a. Spinach or sprouts: Blanch 1 min in boiling water (salted), drain, squeeze dry, toss with ½ tsp sesame oil, ½ tsp soy, ½ tsp minced garlic.  \n",
      "   b. Zucchini & carrot: Sauté each in 1 tsp oil over medium heat, season with a pinch of salt, set aside.  \n",
      "   c. Mushrooms: Sauté in 1 tsp oil + ½ tsp soy + a pinch sugar until soft.  \n",
      "   d. Beef (if using): Marinate 1 Tbsp soy + ½ tsp sugar + ½ tsp sesame oil + ½ tsp garlic, then sauté until just cooked.  \n",
      "2. Rice: Warm bowls of rice.  \n",
      "3. Assemble: Arrange each veggie/meat in sections on rice.  \n",
      "4. Egg: Fry eggs sunny‑side up, place on top.  \n",
      "5. Sauce & Serve: Dollop gochujang, sprinkle sesame seeds & scallions. To eat, mix everything thoroughly.\n",
      "\n",
      "Approx. time: 30 min  \n",
      "\n",
      "Tips for all dishes  \n",
      "• Adjust spice: add more/less gochujang or fresh chilies.  \n",
      "• Garnish: fresh cucumber slices or a side of store‑bought kimchi.  \n",
      "• Equipment: a good nonstick pan or well‑seasoned cast iron makes stir‑fries easier.  \n",
      "\n",
      "Enjoy your Korean feast! Let me know if you’d like more details or another recipe (seafood pancakes, tteokbokki, etc.).Here’s how you can turn each of these into a vegetarian (or even vegan) dish, with minimal tweaks to the original recipes.  \n",
      "\n",
      "1. Kimchi Fried Rice  \n",
      "   • Kimchi: Most store‑bought kimchis use fish sauce or shrimp paste. Look for “vegan kimchi” at Korean markets or make your own by substituting the fish ingredients with a little crushed nori (seaweed) and a splash of soy sauce or tamari in your chili paste.  \n",
      "   • Eggs (optional): If you eat eggs, keep the sunny‑side‑up as written. For a vegan version, crumble firm tofu and sauté it in a little oil, a pinch of turmeric for color, plus salt and black salt (kala namak) for that eggy aroma. Stir it in at the very end or serve on top.  \n",
      "\n",
      "2. “Mushroom Bulgogi” (in place of Beef Bulgogi)  \n",
      "   Ingredients (2–3 servings)  \n",
      "    • 300 g (10 oz) king oyster mushrooms (or shiitakes + cremini), thinly sliced lengthwise into “scallops”  \n",
      "    • 3 Tbsp soy sauce  \n",
      "    • 2 Tbsp brown sugar or maple syrup  \n",
      "    • 1 Tbsp mirin or dry white wine (optional)  \n",
      "    • 2 cloves garlic, minced  \n",
      "    • 1 tsp fresh ginger, grated  \n",
      "    • 1 Tbsp sesame oil  \n",
      "    • Pinch black pepper  \n",
      "    • ½ small onion, thinly sliced  \n",
      "    • 3 scallions, cut into 2 cm pieces  \n",
      "    • 1 tsp toasted sesame seeds  \n",
      "\n",
      "   Steps  \n",
      "    1. Marinade: Whisk together soy sauce, sugar (or syrup), mirin, garlic, ginger, sesame oil and pepper. Toss in the mushroom slices and onion. Marinate 15–20 minutes.  \n",
      "    2. Cook: Heat a skillet or grill pan over high heat. Add the mushrooms in a single layer, sear 2 minutes per side—do batches if needed.  \n",
      "    3. In the last 30 sec, stir in scallions, then sprinkle with sesame seeds.  \n",
      "    4. Serve with rice, lettuce leaves and gochujang/ssamjang on the side.  \n",
      "\n",
      "3. Vegetarian Bibimbap  \n",
      "   • Omit the ground beef. Instead:  \n",
      "     – Sauté 150 g crumbled firm tofu (or tempeh) in 1 Tbsp soy sauce, ½ tsp sugar, ½ tsp sesame oil and ½ tsp garlic until lightly browned.  \n",
      "     – Or use the same mushroom mix from above: thinly sliced king oysters, marinated briefly in 1 Tbsp soy + ½ tsp sugar + ½ tsp sesame oil, then sauté.  \n",
      "   • Eggs: Keep them sunny‑side‑up if you eat eggs. For vegan, sprinkle fried tofu cubes or pan‑crispy chickpeas on top instead.  \n",
      "   • All other veg prep stays the same—zucchini, carrot, spinach/beansprouts, mushrooms.  \n",
      "\n",
      "General tips  \n",
      " • Sesame oil, soy and garlic do the heavy lifting on flavor—your swaps just need to soak those in.  \n",
      " • If you need extra umami, add a little mushroom stock powder or a dash of vegan Worcestershire.  \n",
      " • Garnish with plenty of toasted sesame seeds and scallions, and serve with gochujang on the side so everyone can adjust the heat.  \n",
      "\n",
      "Enjoy your meat‑free Korean feast!"
     ]
    },
    {
     "data": {
      "text/plain": [
       "AIMessage(content='Here’s how you can turn each of these into a vegetarian (or even vegan) dish, with minimal tweaks to the original recipes.  \\n\\n1. Kimchi Fried Rice  \\n   • Kimchi: Most store‑bought kimchis use fish sauce or shrimp paste. Look for “vegan kimchi” at Korean markets or make your own by substituting the fish ingredients with a little crushed nori (seaweed) and a splash of soy sauce or tamari in your chili paste.  \\n   • Eggs (optional): If you eat eggs, keep the sunny‑side‑up as written. For a vegan version, crumble firm tofu and sauté it in a little oil, a pinch of turmeric for color, plus salt and black salt (kala namak) for that eggy aroma. Stir it in at the very end or serve on top.  \\n\\n2. “Mushroom Bulgogi” (in place of Beef Bulgogi)  \\n   Ingredients (2–3 servings)  \\n    • 300\\xa0g (10\\xa0oz) king oyster mushrooms (or shiitakes + cremini), thinly sliced lengthwise into “scallops”  \\n    • 3\\xa0Tbsp soy sauce  \\n    • 2\\xa0Tbsp brown sugar or maple syrup  \\n    • 1\\xa0Tbsp mirin or dry white wine (optional)  \\n    • 2 cloves garlic, minced  \\n    • 1\\xa0tsp fresh ginger, grated  \\n    • 1\\xa0Tbsp sesame oil  \\n    • Pinch black pepper  \\n    • ½ small onion, thinly sliced  \\n    • 3 scallions, cut into 2\\xa0cm pieces  \\n    • 1\\xa0tsp toasted sesame seeds  \\n\\n   Steps  \\n    1. Marinade: Whisk together soy sauce, sugar (or syrup), mirin, garlic, ginger, sesame oil and pepper. Toss in the mushroom slices and onion. Marinate 15–20\\xa0minutes.  \\n    2. Cook: Heat a skillet or grill pan over high heat. Add the mushrooms in a single layer, sear 2\\xa0minutes per side—do batches if needed.  \\n    3. In the last 30\\xa0sec, stir in scallions, then sprinkle with sesame seeds.  \\n    4. Serve with rice, lettuce leaves and gochujang/ssamjang on the side.  \\n\\n3. Vegetarian Bibimbap  \\n   • Omit the ground beef. Instead:  \\n     – Sauté 150\\xa0g crumbled firm tofu (or tempeh) in 1\\xa0Tbsp soy sauce, ½\\xa0tsp sugar, ½\\xa0tsp sesame oil and ½\\xa0tsp garlic until lightly browned.  \\n     – Or use the same mushroom mix from above: thinly sliced king oysters, marinated briefly in 1\\xa0Tbsp soy + ½\\xa0tsp sugar + ½\\xa0tsp sesame oil, then sauté.  \\n   • Eggs: Keep them sunny‑side‑up if you eat eggs. For vegan, sprinkle fried tofu cubes or pan‑crispy chickpeas on top instead.  \\n   • All other veg prep stays the same—zucchini, carrot, spinach/beansprouts, mushrooms.  \\n\\nGeneral tips  \\n • Sesame oil, soy and garlic do the heavy lifting on flavor—your swaps just need to soak those in.  \\n • If you need extra umami, add a little mushroom stock powder or a dash of vegan Worcestershire.  \\n • Garnish with plenty of toasted sesame seeds and scallions, and serve with gochujang on the side so everyone can adjust the heat.  \\n\\nEnjoy your meat‑free Korean feast!', additional_kwargs={}, response_metadata={'finish_reason': 'stop', 'model_name': 'o4-mini-2025-04-16'}, id='run-2515a9da-4ae9-48e8-bd72-9ae9f6078bac-0')"
      ]
     },
     "execution_count": 25,
     "metadata": {},
     "output_type": "execute_result"
    }
   ],
   "source": [
    "from langchain_openai import ChatOpenAI # type: ignore\n",
    "from langchain.prompts import ChatPromptTemplate # type: ignore\n",
    "from langchain.callbacks import StreamingStdOutCallbackHandler # type: ignore\n",
    "\n",
    "chat = ChatOpenAI(\n",
    "    model_name=\"o4-mini\", \n",
    "    streaming=True,\n",
    "    callbacks=[StreamingStdOutCallbackHandler()]\n",
    "    )\n",
    "\n",
    "#normal recipes\n",
    "chef_prompt = ChatPromptTemplate.from_messages([\n",
    "    (\"system\", \"You are a world-class international chef. You create easy-to-follow recipes for any type of cuising with easy-to-find ingredients.\"),\n",
    "    (\"human\", \"I want to cook {country} food.\")\n",
    "])\n",
    "chef_chain = chef_prompt | chat\n",
    "\n",
    "#vegetarian recipes\n",
    "veg_chef_prompt = ChatPromptTemplate.from_messages([\n",
    "    (\"system\", \"You are a vegetarian chef specialized in making traditional recipes vegetarian. You find alternative ingredients and explain their preparation. You don't radically modify the recipe. If there is no alternative, just say you don't know how to replace it.\"),\n",
    "    (\"human\", \"{recipe}\")\n",
    "])\n",
    "veg_chef_chain = veg_chef_prompt | chat\n",
    "\n",
    "#mixing two chains\n",
    "final_chain = {\"recipe\":chef_chain} | veg_chef_chain\n",
    "\n",
    "#calling OpenAI API\n",
    "final_chain.invoke({\n",
    "    \"country\":\"korean\"\n",
    "})"
   ]
  },
  {
   "cell_type": "code",
   "execution_count": null,
   "id": "79c5000c-0b23-4a09-87a1-e0c0cb53fb0e",
   "metadata": {},
   "outputs": [],
   "source": []
  },
  {
   "cell_type": "code",
   "execution_count": null,
   "id": "d548783a-6048-4a57-98ba-c85e9a0b07ab",
   "metadata": {},
   "outputs": [],
   "source": []
  },
  {
   "cell_type": "code",
   "execution_count": null,
   "id": "0238ba54-4666-4351-b740-ae7afab93440",
   "metadata": {},
   "outputs": [],
   "source": []
  },
  {
   "cell_type": "code",
   "execution_count": null,
   "id": "8a12904b-ca98-44bf-ae83-3f6fba046d3e",
   "metadata": {},
   "outputs": [],
   "source": []
  },
  {
   "cell_type": "code",
   "execution_count": null,
   "id": "666455a4-2da9-4b98-acf4-a3b0daf10e4c",
   "metadata": {},
   "outputs": [],
   "source": []
  },
  {
   "cell_type": "code",
   "execution_count": null,
   "id": "210c8971-6202-4892-bdca-671cfea9d662",
   "metadata": {},
   "outputs": [],
   "source": []
  },
  {
   "cell_type": "code",
   "execution_count": null,
   "id": "e901f2a8-4d44-4ae7-bd56-c5dcd3210c06",
   "metadata": {},
   "outputs": [],
   "source": []
  },
  {
   "cell_type": "code",
   "execution_count": null,
   "id": "b1d591a5-057e-403a-80f4-fda904130e24",
   "metadata": {},
   "outputs": [],
   "source": []
  },
  {
   "cell_type": "code",
   "execution_count": null,
   "id": "5aeb2f21-4937-4a45-8e82-978e71b5eeeb",
   "metadata": {},
   "outputs": [],
   "source": []
  }
 ],
 "metadata": {
  "kernelspec": {
   "display_name": "Python 3 (ipykernel)",
   "language": "python",
   "name": "python3"
  },
  "language_info": {
   "codemirror_mode": {
    "name": "ipython",
    "version": 3
   },
   "file_extension": ".py",
   "mimetype": "text/x-python",
   "name": "python",
   "nbconvert_exporter": "python",
   "pygments_lexer": "ipython3",
   "version": "3.9.6"
  }
 },
 "nbformat": 4,
 "nbformat_minor": 5
}
