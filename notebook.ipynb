{
 "cells": [
  {
   "cell_type": "code",
   "execution_count": 1,
   "id": "66717faf",
   "metadata": {},
   "outputs": [
    {
     "name": "stderr",
     "output_type": "stream",
     "text": [
      "/Users/boyoon/Documents/GitHub/fullstack-gpt-2025/.venv/lib/python3.9/site-packages/urllib3/__init__.py:35: NotOpenSSLWarning: urllib3 v2 only supports OpenSSL 1.1.1+, currently the 'ssl' module is compiled with 'LibreSSL 2.8.3'. See: https://github.com/urllib3/urllib3/issues/3020\n",
      "  warnings.warn(\n",
      "/var/folders/n3/6fbssxjx1x7bxcnvp_nn7g3r0000gn/T/ipykernel_25744/292855851.py:4: LangChainDeprecationWarning: The method `BaseChatModel.predict` was deprecated in langchain-core 0.1.7 and will be removed in 1.0. Use :meth:`~invoke` instead.\n",
      "  chat_response = chat.predict(question)\n"
     ]
    },
    {
     "name": "stdout",
     "output_type": "stream",
     "text": [
      "If you mean “planets in our Solar System,” there are eight, in order from the Sun:  \n",
      "1. Mercury  \n",
      "2. Venus  \n",
      "3. Earth  \n",
      "4. Mars  \n",
      "5. Jupiter  \n",
      "6. Saturn  \n",
      "7. Uranus  \n",
      "8. Neptune  \n",
      "\n",
      "(Pluto and a handful of other bodies—Ceres, Eris, Haumea and Makemake—are classified as “dwarf planets” by the International Astronomical Union.)\n",
      "\n",
      "If you widen the scope to the rest of the galaxy (and beyond), astronomers have now confirmed over 5 000 exoplanets orbiting other stars—and ongoing surveys suggest there may be literally billions more. The total number of planets in the universe is unknown (and almost certainly vast).\n"
     ]
    }
   ],
   "source": [
    "from langchain_openai import ChatOpenAI # type: ignore\n",
    "chat = ChatOpenAI(model_name=\"o4-mini\")\n",
    "question=\"How many planets are there?\"\n",
    "# chat_response = chat.predict(question) #this method(predict) will soon be deprecated\n",
    "chat_response = chat.invoke(question)\n",
    "print(chat_response)\n"
   ]
  },
  {
   "cell_type": "code",
   "execution_count": 7,
   "id": "cc135d05-1b92-4c36-af1c-a0405abfa31e",
   "metadata": {},
   "outputs": [
    {
     "name": "stdout",
     "output_type": "stream",
     "text": [
      "content='La distanza in linea d’aria tra Città del Messico e Parigi (capitali di Messico e Francia) è di circa 9.100 chilometri.  \\nMi chiamo Paolo.' additional_kwargs={'refusal': None} response_metadata={'token_usage': {'completion_tokens': 445, 'prompt_tokens': 52, 'total_tokens': 497, 'completion_tokens_details': {'accepted_prediction_tokens': 0, 'audio_tokens': 0, 'reasoning_tokens': 384, 'rejected_prediction_tokens': 0}, 'prompt_tokens_details': {'audio_tokens': 0, 'cached_tokens': 0}}, 'model_name': 'o4-mini-2025-04-16', 'system_fingerprint': None, 'id': 'chatcmpl-BOpSZ5ykJifXMVpgHmW83n3XXMp1S', 'finish_reason': 'stop', 'logprobs': None} id='run-0879f96f-2566-4069-a11b-f08a2aff606d-0' usage_metadata={'input_tokens': 52, 'output_tokens': 445, 'total_tokens': 497, 'input_token_details': {'audio': 0, 'cache_read': 0}, 'output_token_details': {'audio': 0, 'reasoning': 384}}\n"
     ]
    }
   ],
   "source": [
    "from langchain.schema import HumanMessage, AIMessage, SystemMessage # type: ignore\n",
    "messages = [\n",
    "    SystemMessage(content=\"You are a geography expert. And you only reply in Italin.\"),\n",
    "    AIMessage(content=\"Ciao! Mi chiamo Paolo!\"),\n",
    "    HumanMessage(content=\"What is the distance between Mexico and France? And what's your name?\")\n",
    "]\n",
    "\n",
    "# res = chat.predict_messages(messages) #this method(predict_messages) will be soon deprecated.\n",
    "res = chat.invoke(messages)\n",
    "print(res)"
   ]
  },
  {
   "cell_type": "code",
   "execution_count": null,
   "id": "86a47ecd-7cc2-42ed-9ad6-dc2d160ce49f",
   "metadata": {},
   "outputs": [],
   "source": []
  },
  {
   "cell_type": "code",
   "execution_count": null,
   "id": "085d1d02-7eba-4188-b3e5-aba338e85e20",
   "metadata": {},
   "outputs": [],
   "source": []
  },
  {
   "cell_type": "code",
   "execution_count": null,
   "id": "79c5000c-0b23-4a09-87a1-e0c0cb53fb0e",
   "metadata": {},
   "outputs": [],
   "source": []
  },
  {
   "cell_type": "code",
   "execution_count": null,
   "id": "d548783a-6048-4a57-98ba-c85e9a0b07ab",
   "metadata": {},
   "outputs": [],
   "source": []
  },
  {
   "cell_type": "code",
   "execution_count": null,
   "id": "0238ba54-4666-4351-b740-ae7afab93440",
   "metadata": {},
   "outputs": [],
   "source": []
  },
  {
   "cell_type": "code",
   "execution_count": null,
   "id": "8a12904b-ca98-44bf-ae83-3f6fba046d3e",
   "metadata": {},
   "outputs": [],
   "source": []
  },
  {
   "cell_type": "code",
   "execution_count": null,
   "id": "666455a4-2da9-4b98-acf4-a3b0daf10e4c",
   "metadata": {},
   "outputs": [],
   "source": []
  },
  {
   "cell_type": "code",
   "execution_count": null,
   "id": "210c8971-6202-4892-bdca-671cfea9d662",
   "metadata": {},
   "outputs": [],
   "source": []
  },
  {
   "cell_type": "code",
   "execution_count": null,
   "id": "e901f2a8-4d44-4ae7-bd56-c5dcd3210c06",
   "metadata": {},
   "outputs": [],
   "source": []
  },
  {
   "cell_type": "code",
   "execution_count": null,
   "id": "b1d591a5-057e-403a-80f4-fda904130e24",
   "metadata": {},
   "outputs": [],
   "source": []
  },
  {
   "cell_type": "code",
   "execution_count": null,
   "id": "5aeb2f21-4937-4a45-8e82-978e71b5eeeb",
   "metadata": {},
   "outputs": [],
   "source": []
  }
 ],
 "metadata": {
  "kernelspec": {
   "display_name": "Python 3 (ipykernel)",
   "language": "python",
   "name": "python3"
  },
  "language_info": {
   "codemirror_mode": {
    "name": "ipython",
    "version": 3
   },
   "file_extension": ".py",
   "mimetype": "text/x-python",
   "name": "python",
   "nbconvert_exporter": "python",
   "pygments_lexer": "ipython3",
   "version": "3.9.6"
  }
 },
 "nbformat": 4,
 "nbformat_minor": 5
}
